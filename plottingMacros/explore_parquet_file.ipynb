{
 "cells": [
  {
   "cell_type": "code",
   "execution_count": 1,
   "id": "d5461584",
   "metadata": {},
   "outputs": [
    {
     "name": "stdout",
     "output_type": "stream",
     "text": [
      "Welcome to JupyROOT 6.30/04\n"
     ]
    }
   ],
   "source": [
    "#from torch.utils.data import *\n",
    "from sklearn.metrics import roc_curve, auc\n",
    "from torch.utils.data import ConcatDataset, Dataset, DataLoader, sampler, DistributedSampler\n",
    "\n",
    "import pyarrow.parquet as pq\n",
    "import pyarrow as pa # pip install pyarrow==0.7.1\n",
    "import ROOT\n",
    "import numpy as np\n",
    "np.random.seed(0)\n",
    "import glob, os\n",
    "\n",
    "import dask.array as da\n",
    "\n",
    "#from scipy.misc import imresize\n",
    "\n",
    "import matplotlib.pyplot as plt\n",
    "#%matplotlib inline\n",
    "from matplotlib.colors import LogNorm, ListedColormap, LinearSegmentedColormap\n",
    "import matplotlib.ticker as ticker\n",
    "from matplotlib.ticker import MultipleLocator\n",
    "import matplotlib.gridspec as gridspec\n",
    "import matplotlib.patches as mpatches\n",
    "\n",
    "from skimage.measure import block_reduce\n",
    "from numpy.lib.stride_tricks import as_strided"
   ]
  },
  {
   "cell_type": "code",
   "execution_count": 2,
   "id": "42e79dbb",
   "metadata": {},
   "outputs": [
    {
     "name": "stdout",
     "output_type": "stream",
     "text": [
      "/eos/home-i02/r/rchudasa/SWAN_projects/e2e/MLAnalyzer/plottingMacros\r\n"
     ]
    }
   ],
   "source": [
    "!pwd"
   ]
  },
  {
   "cell_type": "code",
   "execution_count": 3,
   "id": "92ffa5c2",
   "metadata": {},
   "outputs": [],
   "source": [
    "fileStr ='/eos/home-i02/r/rchudasa/SWAN_projects/e2e/MLAnalyzer/plottingMacros/top_gun_opendata_0.parquet'\n",
    "outDir = '/eos/home-i02/r/rchudasa/SWAN_projects/e2e/MLAnalyzer/plottingMacros'\n",
    "f0s = glob.glob(fileStr)"
   ]
  },
  {
   "cell_type": "code",
   "execution_count": 4,
   "id": "11cec6c8",
   "metadata": {},
   "outputs": [],
   "source": [
    "pf =  pq.ParquetFile(fileStr)"
   ]
  },
  {
   "cell_type": "code",
   "execution_count": 5,
   "id": "d6ee99e3",
   "metadata": {},
   "outputs": [
    {
     "data": {
      "text/plain": [
       "<pyarrow._parquet.FileMetaData object at 0x7f063192edb0>\n",
       "  created_by: parquet-cpp version 1.5.1-SNAPSHOT\n",
       "  num_columns: 5\n",
       "  num_rows: 150327\n",
       "  num_row_groups: 150327\n",
       "  format_version: 1.0\n",
       "  serialized_size: 72239212"
      ]
     },
     "execution_count": 5,
     "metadata": {},
     "output_type": "execute_result"
    }
   ],
   "source": [
    "pf.metadata"
   ]
  },
  {
   "cell_type": "code",
   "execution_count": 19,
   "id": "72bb0883",
   "metadata": {},
   "outputs": [
    {
     "name": "stdout",
     "output_type": "stream",
     "text": [
      "(256, 8, 125, 125)\n"
     ]
    },
    {
     "data": {
      "image/png": "[encoded data removed]",
      "text/plain": [
       "<Figure size 432x288 with 1 Axes>"
      ]
     },
     "metadata": {
      "needs_background": "light"
     },
     "output_type": "display_data"
    }
   ],
   "source": [
    "import cupy as cp\n",
    "record_batch = pf.iter_batches(batch_size=256)\n",
    "\n",
    "for batch in record_batch:\n",
    "    \n",
    "    df = batch.to_pandas()\n",
    "    xj = df.columns.get_loc('X_jet')\n",
    "    im = cp.array(np.array(np.array(df.iloc[:, xj].tolist()).tolist()).tolist())\n",
    "    #plt.imshow(im[0:,0,:,:].get(), cmap='Greys', vmin=0., vmax=1., alpha=0.9)\n",
    "    plt.imshow(im[0,0,:,:].get(), cmap='Greys', vmin=0., vmax=1., alpha=0.9)\n",
    "    plt.imshow(im[1,0,:,:].get(), cmap='Greys', vmin=0., vmax=1., alpha=0.9)\n",
    "    print(im.shape)\n",
    "    break"
   ]
  },
  {
   "cell_type": "code",
   "execution_count": null,
   "id": "dd8687d9",
   "metadata": {},
   "outputs": [],
   "source": [
    "class ParquetDataset(Dataset):\n",
    "    def __init__(self, filename):\n",
    "        self.parquet = pq.ParquetFile(filename)\n",
    "        self.cols = None # read all columns\n",
    "        #self.cols = ['X_jet.list.item.list.item.list.item','y'] \n",
    "    def __getitem__(self, index):\n",
    "        data = self.parquet.read_row_group(index, columns=self.cols).to_pydict()\n",
    "        data['X_CMSII'] = np.float32(data['X_CMSII'][0])\n",
    "        data['y'] = np.float32(data['y'])\n",
    "        data['m0'] = np.float32(data['jetM'])\n",
    "        data['pt'] = np.float32(data['jetPt'])\n",
    "        # Preprocessing\n",
    "        data['X_CMSII'][data['X_CMSII'] < 1.e-3] = 0. # Zero-Suppression\n",
    "        data['X_CMSII'][4,...] = 25.*data['X_CMSII'][4,...] # For HCAL: to match pixel intensity dist of other layers\n",
    "        data['X_CMSII'] = data['X_CMSII']/100. # To standardize\n",
    "        return dict(data)\n",
    "    def __len__(self):\n",
    "        return self.parquet.num_row_groups"
   ]
  },
  {
   "cell_type": "code",
   "execution_count": null,
   "id": "f43c302c",
   "metadata": {},
   "outputs": [],
   "source": [
    "def custom_div_cmap(numcolors=11, name='custom_div_cmap',mincol='blue', midcol='white', maxcol='red'):\n",
    "    cmap = LinearSegmentedColormap.from_list(name=name,colors=[mincol, midcol, maxcol],N=numcolors)\n",
    "    return cmap\n",
    "\n",
    "pink_map = custom_div_cmap(50, mincol='#FFFFFF', midcol='#F699CD' ,maxcol='#FF1694')"
   ]
  },
  {
   "cell_type": "code",
   "execution_count": null,
   "id": "f3abe240",
   "metadata": {},
   "outputs": [],
   "source": [
    "def plotEvent(img, mins, maxs, str_):\n",
    "    plt.imshow(np.zeros_like(img[-1,8,:,:]), cmap='Greys', vmin=0., vmax=1., alpha=0.9)\n",
    "    #if maxs[-1] > 0 : plt.imshow(img[-1,8,:,:], cmap='Greens', norm=LogNorm(), alpha=0.9, vmin=mins[-1], vmax=maxs[-1])\n",
    "    #if maxs[-2] > 0 : plt.imshow(img[-1,7,:,:], cmap='Purples', norm=LogNorm(), alpha=0.9, vmin=mins[-2], vmax=maxs[-2])\n",
    "    #if maxs[-3] > 0 : plt.imshow(img[-1,6,:,:], cmap='Blues', norm=LogNorm(), alpha=0.9, vmin=mins[-3], vmax=maxs[-3])\n",
    "    #if maxs[-4] > 0 : plt.imshow(img[-1,5,:,:], cmap='Greens', norm=LogNorm(), alpha=0.9, vmin=mins[-4], vmax=maxs[-4])\n",
    "    if maxs[-5] > 0 : plt.imshow(img[-1,4,:,:], cmap='Greys',  norm=LogNorm(), alpha=0.9, vmin=mins[-5], vmax=maxs[-5])\n",
    "    if maxs[-6] > 0 : plt.imshow(img[-1,3,:,:], cmap='Blues',  norm=LogNorm(), alpha=0.9, vmin=mins[-6], vmax=maxs[-6])\n",
    "    #if maxs[-7] > 0 : plt.imshow(img[-1,0,:,:], cmap='Oranges',norm=LogNorm(), alpha=0.9, vmin=mins[-7], vmax=maxs[-7])\n",
    "    #plt.colorbar(fraction=0.046, pad=0.04)\n",
    "\n",
    "    #X AXIS\n",
    "    ax = plt.axes()\n",
    "    plt.xlim([0., 360.+0.])\n",
    "    #plt.xticks(np.arange(0,360,90))\n",
    "    plt.xticks(np.arange(0,360,45))\n",
    "    ax_range_x = np.arange(0,360+45,45)\n",
    "    ax.set_xticks(ax_range_x)\n",
    "    ax.set_xticklabels(ax_range_x)\n",
    "    plt.xlabel(r\"$\\mathrm{i\\varphi}'$\", size=28) #28, 30\n",
    "    ax.xaxis.set_tick_params(direction='in', which='major', length=6.)\n",
    "    ax.xaxis.set_tick_params(direction='in', which='minor', length=3.)\n",
    "\n",
    "    #Y AXIS\n",
    "    #plt.ylim([0., 280.+0.])\n",
    "    plt.ylim([280+0, 0.])\n",
    "    #plt.yticks(np.arange(0,280,112))\n",
    "    #plt.yticks(np.arange(0,280,56))\n",
    "    plt.yticks(np.arange(280,0,56))\n",
    "    plt.ylabel(r\"$\\mathrm{i\\eta}'$\", size=28) #28, 30\n",
    "    ax_range_y = np.arange(0,280+56,56)\n",
    "    ax.set_yticks(ax_range_y)\n",
    "    ax.set_yticklabels(ax_range_y)\n",
    "    ax.yaxis.set_tick_params(direction='in', which='major', length=6.)\n",
    "    ax.yaxis.set_tick_params(direction='in', which='minor', length=3.)\n",
    "\n",
    "    #LEGEND\n",
    "    #colors = {1:'tab:orange',2:'tab:blue',3:'tab:grey',4:'tab:green',5:'tab:blue',6:'tab:purple',7:'tab:green'}\n",
    "    colors = {1:'orange',2:'lightblue',3:'grey',4:'green',5:'blue',6:'purple'}\n",
    "    #labels = {1:'Track pT',2:'ECAL',3:'HCAL',4:'PXB1',5:'PXB2',6:'PXB3',7:'PXB4'}\n",
    "    labels = {1:'Track pT',2:'ECAL',3:'HCAL',4:'BPix L1',5:'BPix L2',6:'BPix L3'}\n",
    "    patches =[mpatches.Patch(color=colors[i],label=labels[i]) for i in colors]\n",
    "    #plt.legend(handles=patches, bbox_to_anchor=(1.05, 1), loc=2, borderaxespad=0. )\n",
    "    plt.legend(handles=patches, loc='center left', bbox_to_anchor=(1, 0.5))\n",
    "\n",
    "    #plt.legend(handles=patches, loc='best')\n",
    "    #plt.savefig(str_, bbox_inches='tight')\n",
    "    plt.savefig(str_, bbox_inches='tight', format='png')\n",
    "    #plt.show()\n",
    "    plt.clf()"
   ]
  },
  {
   "cell_type": "code",
   "execution_count": null,
   "id": "8d948dff",
   "metadata": {},
   "outputs": [],
   "source": [
    "import torch\n",
    "dset_train = ParquetDataset(fileStr)\n",
    "train_cut = 50\n",
    "idxs = np.random.permutation(len(dset_train))\n",
    "train_sampler = sampler.SubsetRandomSampler(idxs[:train_cut])\n",
    "#train_loader = DataLoader(dataset=dset_train, batch_size=32, num_workers=0, sampler=train_sampler, pin_memory=True)\n",
    "train_loader = DataLoader(dataset=dset_train, batch_size=2, num_workers=0, shuffle=False, pin_memory=True)\n",
    "for i, data in enumerate(train_loader):\n",
    "    #if i == args.nEvents: break\n",
    "    print (\"Event \", i)\n",
    "    print(\"jetM:\", data['jetM'], \" pt:\" , data['jetPt'])\n",
    "    for ele,ele2 in zip(data['ieta'], data['iphi']):\n",
    "        print(\"ieta:iphi\", torch.mul(ele,5), torch.mul(ele2,5))\n",
    "    #for ele2 in data['iphi']:\n",
    "    #    print(\"iphi:\", torch.mul(ele2,5))\n",
    "    #print(\"jetM:\", data['jetM'], \" pt:\" , data['jetPt'], \" iEta:\", torch.mul(data['ieta'],5), \n",
    "    #      \" iphi:\", torch.mul(data['iphi'],5))\n",
    "    X_train = data['X_CMSII']\n",
    "\n",
    "    plt.rcParams[\"font.family\"] = \"Helvetica\"\n",
    "    plt.rcParams[\"figure.figsize\"] = (24,12)\n",
    "    plt.rcParams.update({'font.size': 26})\n",
    "    \n",
    "    cmap = ['Oranges','Blues','Greys','Reds',pink_map,'Purples','Greens',]\n",
    "    min_ = 0.0001\n",
    "\n",
    "    img = X_train[...]\n",
    "\n",
    "    mins = [0.0001]*7\n",
    "    maxs = [X_train[-1,0,:,:].max(), X_train[-1,3,:,:].max(), X_train[-1,4,:,:].max(), X_train[-1,5,:,:].max(), X_train[-1,6,:,:].max(), X_train[-1,7,:,:].max(), X_train[-1,8,:,:].max()]\n",
    "    plotEvent(img, mins, maxs, '%s/event_images/tau_event%d.png'%(outDir,i))"
   ]
  },
  {
   "cell_type": "code",
   "execution_count": null,
   "id": "65ae352d",
   "metadata": {},
   "outputs": [],
   "source": []
  }
 ],
 "metadata": {
  "@webio": {
   "lastCommId": null,
   "lastKernelId": null
  },
  "kernelspec": {
   "display_name": "Python 3",
   "language": "python",
   "name": "python3"
  },
  "language_info": {
   "codemirror_mode": {
    "name": "ipython",
    "version": 3
   },
   "file_extension": ".py",
   "mimetype": "text/x-python",
   "name": "python",
   "nbconvert_exporter": "python",
   "pygments_lexer": "ipython3",
   "version": "3.9.12"
  }
 },
 "nbformat": 4,
 "nbformat_minor": 5
}
