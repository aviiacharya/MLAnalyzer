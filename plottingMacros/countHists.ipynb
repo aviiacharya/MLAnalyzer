{
 "cells": [
  {
   "cell_type": "code",
   "execution_count": 1,
   "id": "959e45e9",
   "metadata": {},
   "outputs": [],
   "source": [
    "import uproot\n",
    "import os\n",
    "import matplotlib.pyplot as plt\n",
    "import mplhep as hep\n",
    "hep.style.use(\"CMS\")\n",
    "import numpy as np"
   ]
  },
  {
   "cell_type": "code",
   "execution_count": 2,
   "id": "5b466329",
   "metadata": {},
   "outputs": [],
   "source": [
    "file = uproot.open('/eos/home-i02/r/rchudasa/e2e_project/Tau_data_ntuples/output_10.root')"
   ]
  },
  {
   "cell_type": "code",
   "execution_count": 3,
   "id": "7caf013b",
   "metadata": {},
   "outputs": [],
   "source": [
    "hh = file['fevt/h_sel']"
   ]
  },
  {
   "cell_type": "code",
   "execution_count": null,
   "id": "78f6b4ec",
   "metadata": {},
   "outputs": [],
   "source": []
  },
  {
   "cell_type": "code",
   "execution_count": null,
   "id": "21f03f37",
   "metadata": {},
   "outputs": [],
   "source": []
  },
  {
   "cell_type": "code",
   "execution_count": null,
   "id": "4cfa3d0c",
   "metadata": {},
   "outputs": [],
   "source": []
  },
  {
   "cell_type": "code",
   "execution_count": null,
   "id": "e5dbe6cb",
   "metadata": {},
   "outputs": [],
   "source": [
    "h2 = hh.to_numpy()"
   ]
  },
  {
   "cell_type": "code",
   "execution_count": null,
   "id": "5b20a735",
   "metadata": {},
   "outputs": [],
   "source": [
    "h3 = np.array(hh.values())"
   ]
  },
  {
   "cell_type": "code",
   "execution_count": null,
   "id": "d9bc0e36",
   "metadata": {},
   "outputs": [],
   "source": [
    "h3"
   ]
  },
  {
   "cell_type": "code",
   "execution_count": null,
   "id": "69e839df",
   "metadata": {},
   "outputs": [],
   "source": [
    "fig, ax = plt.subplots(figsize=(10, 5))\n",
    "hep.histplot(\n",
    "    h3,\n",
    "    bins=2,\n",
    "    histtype=\"fill\",\n",
    "    color=\"b\",\n",
    "    alpha=0.5,\n",
    "    edgecolor=\"black\",\n",
    "    label=r\"ZZ $\\rightarrow$ 4l\",\n",
    "    ax=ax,\n",
    ")\n",
    "\n",
    "ax.set_xlabel(\"4l invariant mass (GeV)\", fontsize=15)\n",
    "ax.set_ylabel(\"Events / 3 GeV\", fontsize=15)\n",
    "#ax.set_xlim(rmin, rmax)\n",
    "ax.legend()\n",
    "fig.show()\n"
   ]
  },
  {
   "cell_type": "code",
   "execution_count": null,
   "id": "b6ea527e",
   "metadata": {},
   "outputs": [],
   "source": [
    "def read_histogram(root_file, histogram_name):\n",
    "    \"\"\"Read histogram from a ROOT file\"\"\"\n",
    "    with uproot.open(root_file) as file:\n",
    "        histogram = file[histogram_name].to_hist()\n",
    "    return histogram\n",
    "\n",
    "def plot_histograms(root_files, histogram_name):\n",
    "    \"\"\"Plot histograms from multiple ROOT files\"\"\"\n",
    "    plt.figure(figsize=(10, 6))\n",
    "    for root_file in root_files:\n",
    "        histogram = read_histogram(root_file, histogram_name)\n",
    "        #plt.hist(histogram.values, bins=histogram.edges, histtype='step', label=root_file.split('/')[-1])\n",
    "        plt.hist(histogram.values, bins=histogram.edges, histtype='step')\n",
    "\n",
    "    plt.xlabel('Bin')\n",
    "    plt.ylabel('Counts')\n",
    "    plt.title(histogram_name)\n",
    "    plt.legend()\n",
    "    plt.show()"
   ]
  },
  {
   "cell_type": "code",
   "execution_count": null,
   "id": "91e54912",
   "metadata": {},
   "outputs": [],
   "source": [
    "# Example usage:\n",
    "fileList = []\n",
    "for roots,dirs,files in os.walk('/eos/home-i02/r/rchudasa/e2e_project/Tau_data_ntuples/'):\n",
    "    for name in files:\n",
    "        file = os.path.join(roots,name)\n",
    "        fileList.append(file) \n",
    "\n",
    "root_files = fileList[10]\n",
    "histogram_name = 'fevt/h_sel'\n",
    "plot_histograms(root_files, histogram_name)"
   ]
  },
  {
   "cell_type": "code",
   "execution_count": null,
   "id": "e9b72bc8",
   "metadata": {},
   "outputs": [],
   "source": []
  },
  {
   "cell_type": "code",
   "execution_count": null,
   "id": "244963e2",
   "metadata": {},
   "outputs": [],
   "source": []
  },
  {
   "cell_type": "code",
   "execution_count": null,
   "id": "c510cbbb",
   "metadata": {},
   "outputs": [],
   "source": [
    "!ls -ltr /eos/home-i02/r/rchudasa/e2e_project/Tau_data_ntuples/"
   ]
  },
  {
   "cell_type": "code",
   "execution_count": null,
   "id": "1232d4b9",
   "metadata": {},
   "outputs": [],
   "source": [
    "hh.values()"
   ]
  },
  {
   "cell_type": "code",
   "execution_count": null,
   "id": "d3e2a189",
   "metadata": {},
   "outputs": [],
   "source": []
  }
 ],
 "metadata": {
  "@webio": {
   "lastCommId": null,
   "lastKernelId": null
  },
  "kernelspec": {
   "display_name": "Python 3",
   "language": "python",
   "name": "python3"
  },
  "language_info": {
   "codemirror_mode": {
    "name": "ipython",
    "version": 3
   },
   "file_extension": ".py",
   "mimetype": "text/x-python",
   "name": "python",
   "nbconvert_exporter": "python",
   "pygments_lexer": "ipython3",
   "version": "3.9.12"
  }
 },
 "nbformat": 4,
 "nbformat_minor": 5
}
