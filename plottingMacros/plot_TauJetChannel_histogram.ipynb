{
 "cells": [
  {
   "cell_type": "code",
   "execution_count": 1,
   "id": "bbbca890",
   "metadata": {
    "tags": []
   },
   "outputs": [
    {
     "name": "stdout",
     "output_type": "stream",
     "text": [
      "Welcome to JupyROOT 6.30/04\n"
     ]
    }
   ],
   "source": [
    "#from torch.utils.data import *\n",
    "from sklearn.metrics import roc_curve, auc\n",
    "from torch.utils.data import ConcatDataset, Dataset, DataLoader, sampler, DistributedSampler\n",
    "\n",
    "import pyarrow.parquet as pq\n",
    "import pyarrow as pa # pip install pyarrow==0.7.1\n",
    "#import ROOT\n",
    "import numpy as np\n",
    "np.random.seed(0)\n",
    "import glob, os\n",
    "\n",
    "import dask.array as da\n",
    "\n",
    "#from scipy.misc import imresize\n",
    "\n",
    "import matplotlib.pyplot as plt\n",
    "#%matplotlib inline\n",
    "from matplotlib.colors import LogNorm, ListedColormap, LinearSegmentedColormap\n",
    "import matplotlib.ticker as ticker\n",
    "from matplotlib.ticker import MultipleLocator\n",
    "import matplotlib.gridspec as gridspec\n",
    "import matplotlib.patches as mpatches\n",
    "\n",
    "from skimage.measure import block_reduce\n",
    "from numpy.lib.stride_tricks import as_strided\n",
    "import pandas as pd\n",
    "\n",
    "from ROOT import TCanvas, TFile, TProfile, TNtuple, TH1F, TH2F\n",
    "from ROOT import gROOT, gBenchmark, gRandom, gSystem\n",
    "import ctypes"
   ]
  },
  {
   "cell_type": "code",
   "execution_count": 2,
   "id": "30f01534-4569-4c3d-9260-80a1ecc80490",
   "metadata": {
    "tags": []
   },
   "outputs": [
    {
     "name": "stdout",
     "output_type": "stream",
     "text": [
      "/eos/home-i02/r/rchudasa/SWAN_projects/e2e/MLAnalyzer/plottingMacros\r\n"
     ]
    }
   ],
   "source": [
    "!pwd"
   ]
  },
  {
   "cell_type": "code",
   "execution_count": 3,
   "id": "3584bb41",
   "metadata": {
    "tags": []
   },
   "outputs": [],
   "source": [
    "fileStr = '/eos/home-i02/r/rchudasa/SWAN_projects/e2e/MLAnalyzer/convertRootFiles/DYToTauTau_jet.parquet.1'\n",
    "outDir = '/eos/home-i02/r/rchudasa/SWAN_projects/e2e/MLAnalyzer/plottingMacros/croppedJetIMG_DYTauTau_v2/'\n",
    "f0s = glob.glob(fileStr)"
   ]
  },
  {
   "cell_type": "code",
   "execution_count": 4,
   "id": "59dfc4f2",
   "metadata": {},
   "outputs": [],
   "source": [
    "pf = pq.ParquetFile(fileStr)"
   ]
  },
  {
   "cell_type": "code",
   "execution_count": 5,
   "id": "c9f11f5e",
   "metadata": {},
   "outputs": [
    {
     "data": {
      "text/plain": [
       "15"
      ]
     },
     "execution_count": 5,
     "metadata": {},
     "output_type": "execute_result"
    }
   ],
   "source": [
    "pf.num_row_groups"
   ]
  },
  {
   "cell_type": "code",
   "execution_count": 6,
   "id": "4e4af585",
   "metadata": {},
   "outputs": [],
   "source": [
    "df = pd.read_parquet(fileStr)"
   ]
  },
  {
   "cell_type": "code",
   "execution_count": 7,
   "id": "daf0e45b",
   "metadata": {},
   "outputs": [],
   "source": [
    "im = np.array(np.array(np.array(df['X_jet'].tolist()).tolist()).tolist())"
   ]
  },
  {
   "cell_type": "code",
   "execution_count": 8,
   "id": "63bfda13",
   "metadata": {},
   "outputs": [
    {
     "data": {
      "text/plain": [
       "(15, 13, 125, 125)"
      ]
     },
     "execution_count": 8,
     "metadata": {},
     "output_type": "execute_result"
    }
   ],
   "source": [
    "im.shape"
   ]
  },
  {
   "cell_type": "code",
   "execution_count": 37,
   "id": "31bb5f8b",
   "metadata": {},
   "outputs": [],
   "source": [
    "#for ch in range(13):\n",
    "hist_data = im[:,8,:,:]\n",
    "hist_data = hist_data[hist_data>0.0]"
   ]
  },
  {
   "cell_type": "code",
   "execution_count": 38,
   "id": "00f35c3f",
   "metadata": {},
   "outputs": [
    {
     "data": {
      "text/plain": [
       "(2415,)"
      ]
     },
     "execution_count": 38,
     "metadata": {},
     "output_type": "execute_result"
    }
   ],
   "source": [
    "hist_data.shape"
   ]
  },
  {
   "cell_type": "code",
   "execution_count": null,
   "id": "e5f66a29",
   "metadata": {},
   "outputs": [],
   "source": []
  },
  {
   "cell_type": "code",
   "execution_count": 39,
   "id": "aed81d33",
   "metadata": {},
   "outputs": [
    {
     "name": "stderr",
     "output_type": "stream",
     "text": [
      "Warning in <TROOT::Append>: Replacing existing TH1: h1 (Potential memory leak).\n"
     ]
    }
   ],
   "source": [
    "h1    = TH1F( 'h1', '', 10, 0, 10 )"
   ]
  },
  {
   "cell_type": "code",
   "execution_count": 40,
   "id": "14d6523e",
   "metadata": {},
   "outputs": [],
   "source": [
    "for value in hist_data.flatten():\n",
    "    h1.Fill(value)"
   ]
  },
  {
   "cell_type": "code",
   "execution_count": 41,
   "id": "ef154383",
   "metadata": {},
   "outputs": [
    {
     "name": "stderr",
     "output_type": "stream",
     "text": [
      "Warning in <TCanvas::Constructor>: Deleting canvas with same name: myCanvasName\n"
     ]
    }
   ],
   "source": [
    "c = TCanvas(\"myCanvasName\",\"The Canvas Title\",800,600)\n",
    "h1.Draw()\n",
    "\n"
   ]
  },
  {
   "cell_type": "code",
   "execution_count": 42,
   "id": "a1df51ef",
   "metadata": {},
   "outputs": [
    {
     "data": {
      "image/png": "[encoded data removed]",
      "text/plain": [
       "<IPython.core.display.Image object>"
      ]
     },
     "metadata": {},
     "output_type": "display_data"
    }
   ],
   "source": [
    "c.Draw()"
   ]
  },
  {
   "cell_type": "code",
   "execution_count": null,
   "id": "c7378496",
   "metadata": {},
   "outputs": [],
   "source": [
    "check = hist_data>0.0"
   ]
  },
  {
   "cell_type": "code",
   "execution_count": null,
   "id": "aba0c562",
   "metadata": {},
   "outputs": [],
   "source": [
    "check = hist_data[hist_data>0.0]"
   ]
  },
  {
   "cell_type": "code",
   "execution_count": null,
   "id": "18ac2e24",
   "metadata": {},
   "outputs": [],
   "source": [
    "max(check)"
   ]
  },
  {
   "cell_type": "code",
   "execution_count": null,
   "id": "7b1d56ac-7f2c-4a9c-a4f4-40cb6d16fd29",
   "metadata": {
    "tags": []
   },
   "outputs": [],
   "source": [
    "if not os.path.exists(outDir):\n",
    "    print(\"Experiment Directory not found making one\")\n",
    "    os.makedirs(outDir)"
   ]
  },
  {
   "cell_type": "code",
   "execution_count": null,
   "id": "80d5ca1a",
   "metadata": {
    "tags": []
   },
   "outputs": [],
   "source": [
    "class ParquetDataset(Dataset):\n",
    "    def __init__(self, filename):\n",
    "        self.parquet = pq.ParquetFile(filename)\n",
    "        self.cols = ['X_jet','y']\n",
    "        #self.cols = ['X_CMSII']\n",
    "        #self.cols = ['X_jet.list.item.list.item.list.item','y'] \n",
    "    def __getitem__(self, index):\n",
    "        data = self.parquet.read_row_group(index, columns=self.cols).to_pydict()\n",
    "        data['X_jet'] = np.float32(data['X_jet'][0])\n",
    "        #data['X_jet'] = np.float32(data['X_CMSII'][0])\n",
    "        #data['y'] = np.float32(data['y'])\n",
    "        #print(\"index:\", index)\n",
    "        #data['m0'] = np.float32(data['jetM'])\n",
    "        #data['pt'] = np.float32(data['jetPt'])\n",
    "        # Preprocessing\n",
    "        data['X_jet'][data['X_jet'] < 1.e-3] = 0. # Zero-Suppression\n",
    "        #data['X_jet'][4,...] = 25.*data['X_jet'][4,...] # For HCAL: to match pixel intensity dist of other layers\n",
    "        #data['X_jet'] = data['X_jet']/100. # To standardize\n",
    "        return dict(data)\n",
    "    def __len__(self):\n",
    "        return self.parquet.num_row_groups"
   ]
  },
  {
   "cell_type": "code",
   "execution_count": null,
   "id": "4900d627-bd0f-48ca-b1c5-8eab6cd707c1",
   "metadata": {
    "tags": []
   },
   "outputs": [],
   "source": [
    "def custom_div_cmap(numcolors=11, name='custom_div_cmap',mincol='blue', midcol='white', maxcol='red'):\n",
    "    cmap = LinearSegmentedColormap.from_list(name=name,colors=[mincol, midcol, maxcol],N=numcolors)\n",
    "    return cmap\n",
    "\n",
    "pink_map = custom_div_cmap(50, mincol='#FFFFFF', midcol='#F699CD' ,maxcol='#FF1694')"
   ]
  },
  {
   "cell_type": "code",
   "execution_count": null,
   "id": "b17c6a74",
   "metadata": {
    "tags": []
   },
   "outputs": [],
   "source": [
    "def plotJet(img, mins, maxs, str_):\n",
    "    # Create subplots\n",
    "    fig, ax = plt.subplots()\n",
    "    mins = 0.0001\n",
    "    #im = plt.imshow(np.zeros_like(img[8,:,:]), cmap='Purples', vmin=0., vmax=1., alpha=0.9)\n",
    "    #if maxs[-1] > 0 : plt.imshow(img[8,:,:], cmap='Greens', norm=LogNorm(), alpha=0.9, vmin=mins[-1], vmax=maxs[-1])\n",
    "    # if maxs[-1] > 0 : plt.imshow(img[7,:,:], cmap='Purples', norm=LogNorm(vmin=mins[-1], vmax=maxs[-1]), alpha=0.9)\n",
    "    # if maxs[-2] > 0 : plt.imshow(img[6,:,:], cmap='Blues', norm=LogNorm(vmin=mins[-2], vmax=maxs[-2]), alpha=0.9)\n",
    "    # if maxs[-3] > 0 : plt.imshow(img[5,:,:], cmap='Greens', norm=LogNorm(vmin=mins[-3], vmax=maxs[-3]), alpha=0.9)\n",
    "    # if maxs[-4] > 0 : plt.imshow(img[4,:,:], cmap='Greys',  norm=LogNorm(vmin=mins[-4], vmax=maxs[-4]), alpha=0.9)\n",
    "    # if maxs[-5] > 0 : plt.imshow(img[3,:,:], cmap='Blues',  norm=LogNorm(vmin=mins[-5], vmax=maxs[-5]), alpha=0.9)\n",
    "    # if maxs[-6] > 0 : plt.imshow(img[0,:,:], cmap='Oranges',norm=LogNorm(vmin=mins[-6], vmax=maxs[-6]), alpha=0.9)\n",
    "    \n",
    "    zero = ax.imshow(np.zeros_like(img[6,:,:]), cmap='Greys', vmin=0., vmax=1., alpha=0.9)\n",
    "    hcal = ax.imshow(img[4,:,:],cmap='Greys', norm=LogNorm(vmin=mins, vmax=img[4,:,:].max()), alpha=0.4)\n",
    "    bpix1 = ax.imshow(img[5,:,:],cmap='Greens', norm=LogNorm(vmin=mins, vmax=img[5,:,:].max()), alpha=0.6)\n",
    "    bpix2 = ax.imshow(img[6,:,:],cmap='Greens', norm=LogNorm(vmin=mins, vmax=img[6,:,:].max()), alpha=0.6)\n",
    "    bpix3 = ax.imshow(img[7,:,:],cmap='Greens', norm=LogNorm(vmin=mins, vmax=img[7,:,:].max()), alpha=0.6)\n",
    "    bpix4 = ax.imshow(img[8,:,:],cmap='Greens', norm=LogNorm(vmin=mins, vmax=img[8,:,:].max()), alpha=0.6)\n",
    "    strip1 = ax.imshow(img[9,:,:],cmap='Purples', norm=LogNorm(vmin=mins, vmax=img[9,:,:].max()), alpha=0.7)\n",
    "    strip2 = ax.imshow(img[10,:,:],cmap='Purples', norm=LogNorm(vmin=mins, vmax=img[10,:,:].max()), alpha=0.7)\n",
    "    strip3 = ax.imshow(img[11,:,:],cmap='Purples', norm=LogNorm(vmin=mins, vmax=img[11,:,:].max()), alpha=0.7)\n",
    "    strip4 = ax.imshow(img[12,:,:],cmap='Purples', norm=LogNorm(vmin=mins, vmax=img[12,:,:].max()), alpha=0.7)\n",
    "    tracks = ax.imshow(img[0,:,:],cmap='Oranges',norm=LogNorm(vmin=mins, vmax=img[0,:,:].max()), alpha=0.9)\n",
    "    ecal = ax.imshow(img[3,:,:],cmap='Blues', norm=LogNorm(vmin=mins, vmax=img[3,:,:].max()), alpha=0.9)\n",
    "\n",
    "    #plt.colorbar(tracks, ax=ax)\n",
    "\n",
    "    #X AXIS\n",
    "#     ax = plt.axes()\n",
    "    #plt.xlim([0., 125.+0.])\n",
    "#     plt.xticks(np.arange(0,150,25))\n",
    "    #ax_range_x = np.arange(0,125+25,25)\n",
    "    #ax.set_xticks(ax_range_x)\n",
    "    #ax.set_xticklabels(ax_range_x)\n",
    "    plt.xlabel(r\"$\\mathrm{i\\varphi}'$\", size=28) #28, 30\n",
    "    ax.xaxis.set_tick_params(direction='in', which='major', length=6.)\n",
    "    ax.xaxis.set_tick_params(direction='in', which='minor', length=3.)\n",
    "\n",
    "#     #Y AXIS\n",
    "    #plt.ylim([125.+0.,0.])\n",
    "    #plt.yticks(np.arange(150,0,25))\n",
    "    plt.ylabel(r\"$\\mathrm{i\\eta}'$\", size=28) #28, 30\n",
    "    #ax_range_y = np.arange(0,125+25,25)\n",
    "    #ax.set_yticks(ax_range_y)\n",
    "    #ax.set_yticklabels(ax_range_y)\n",
    "    ax.yaxis.set_tick_params(direction='in', which='major', length=6.)\n",
    "    ax.yaxis.set_tick_params(direction='in', which='minor', length=3.)\n",
    "\n",
    "    #LEGEND\n",
    "    #colors = {1:'tab:orange',2:'tab:blue',3:'tab:grey',4:'tab:green',5:'tab:blue',6:'tab:purple',7:'tab:green'}\n",
    "    colors = {1:'orange',2:'lightblue',3:'grey',4:'green',5:'Purple'}\n",
    "    #labels = {1:'Track pT',2:'ECAL',3:'HCAL',4:'PXB1',5:'PXB2',6:'PXB3',7:'PXB4'}\n",
    "    labels = {1:'Track pT',2:'ECAL',3:'HCAL',4:'Pixel layers',5:'Strip layers'}\n",
    "    patches =[mpatches.Patch(color=colors[i],label=labels[i]) for i in colors]\n",
    "    #plt.legend(handles=patches, bbox_to_anchor=(1.05, 1), loc=2, borderaxespad=0. )\n",
    "    plt.legend(handles=patches, loc='center left', bbox_to_anchor=(1, 0.5))\n",
    "#     #plt.savefig(str_, bbox_inches='tight')\n",
    "    plt.savefig(str_, bbox_inches='tight', format='pdf')\n",
    "    plt.show()\n",
    "    #plt.clf()"
   ]
  },
  {
   "cell_type": "code",
   "execution_count": null,
   "id": "6c12ae19-f530-40b7-9285-fd3507ab342b",
   "metadata": {
    "tags": []
   },
   "outputs": [],
   "source": [
    "def plotJet_chnl(img, cmap_, xmin, xmax, str_):\n",
    "    fig, ax = plt.subplots()\n",
    "    ax.imshow(np.zeros_like(img), cmap='Greys', alpha=0.9)\n",
    "    ax.imshow(img, cmap=cmap_, norm=LogNorm(vmin=xmin, vmax=xmax), alpha=0.9)\n",
    "    #ax = plt.axes()\n",
    "    #plt.xlim([0., 125.+0.])\n",
    "    #ax_range_x = np.arange(0,125+25,25)\n",
    "    #ax.set_xticks(ax_range_x)\n",
    "    #ax.set_xticklabels(ax_range_x)\n",
    "    plt.xlabel(r\"$\\mathrm{i\\varphi}'$\", size=28) #28, 30\n",
    "    ax.xaxis.set_tick_params(direction='in', which='major', length=6.)\n",
    "    ax.xaxis.set_tick_params(direction='in', which='minor', length=3.)\n",
    "\n",
    "#     #Y AXIS\n",
    "    #plt.ylim([125.+0.,0.])\n",
    "    plt.ylabel(r\"$\\mathrm{i\\eta}'$\", size=28) #28, 30\n",
    "    #ax_range_y = np.arange(0,125+25,25)\n",
    "    #ax.set_yticks(ax_range_y)\n",
    "    #ax.set_yticklabels(ax_range_y)\n",
    "    ax.yaxis.set_tick_params(direction='in', which='major', length=6.)\n",
    "    ax.yaxis.set_tick_params(direction='in', which='minor', length=3.)\n",
    "    plt.savefig(str_, bbox_inches='tight', format='pdf')\n",
    "    plt.clf()\n",
    "    #plt.show()"
   ]
  },
  {
   "cell_type": "code",
   "execution_count": null,
   "id": "090a476e",
   "metadata": {},
   "outputs": [],
   "source": [
    "def plotJet_chnl_histogram(img, cmap_, xmin, xmax, str_):\n",
    "    fig, ax = plt.subplots()\n",
    "    #ax.imshow(np.zeros_like(img), cmap='Greys', alpha=0.9)\n",
    "    #ax.imshow(img, cmap=cmap_, norm=LogNorm(vmin=xmin, vmax=xmax), alpha=0.9)\n",
    "    #ax = plt.axes()\n",
    "    #plt.xlim([0., 125.+0.])\n",
    "    #ax_range_x = np.arange(0,125+25,25)\n",
    "    #ax.set_xticks(ax_range_x)\n",
    "    #ax.set_xticklabels(ax_range_x)\n",
    "    plt.hist(img,bins=100)\n",
    "    plt.xlabel(r\"$\\mathrm{i\\varphi}'$\", size=28) #28, 30\n",
    "    ax.xaxis.set_tick_params(direction='in', which='major', length=6.)\n",
    "    ax.xaxis.set_tick_params(direction='in', which='minor', length=3.)\n",
    "\n",
    "#     #Y AXIS\n",
    "    #plt.ylim([125.+0.,0.])\n",
    "    plt.ylabel(r\"$\\mathrm{i\\eta}'$\", size=28) #28, 30\n",
    "    #ax_range_y = np.arange(0,125+25,25)\n",
    "    #ax.set_yticks(ax_range_y)\n",
    "    #ax.set_yticklabels(ax_range_y)\n",
    "    ax.yaxis.set_tick_params(direction='in', which='major', length=6.)\n",
    "    ax.yaxis.set_tick_params(direction='in', which='minor', length=3.)\n",
    "    plt.savefig(str_, bbox_inches='tight', format='png')\n",
    "    plt.clf()\n",
    "    #plt.show()"
   ]
  },
  {
   "cell_type": "code",
   "execution_count": null,
   "id": "637dd2ff",
   "metadata": {
    "tags": []
   },
   "outputs": [],
   "source": [
    "dset_train = ParquetDataset(fileStr)\n",
    "train_cut = 50\n",
    "idxs = np.random.permutation(len(dset_train))\n",
    "train_sampler = sampler.SubsetRandomSampler(idxs[:train_cut])\n",
    "#train_loader = DataLoader(dataset=dset_train, batch_size=32, num_workers=0, sampler=train_sampler, pin_memory=True)\n",
    "train_loader = DataLoader(dataset=dset_train, batch_size=1, num_workers=0, shuffle=False, pin_memory=True)\n",
    "counter = 0\n",
    "for i, data in enumerate(train_loader):\n",
    "    #if i < args.skipEvents: continue\n",
    "    #print (\" Event \", i)\n",
    "      \n",
    "    #if i == args.nEvents: break\n",
    "    X_train = data['X_jet']\n",
    "    X_train.shape\n",
    "    #y_train = data['y']\n",
    "\n",
    "    #print(type(X_train))\n",
    "    \n",
    "    #plt.rcParams[\"font.family\"] = \"Helvetica\"\n",
    "    plt.rcParams[\"figure.figsize\"] = (12,12)\n",
    "    #plt.rcParams[\"axes.facecolor\"] = \"white\"\n",
    "    plt.rcParams.update({'font.size': 26})\n",
    "    \n",
    "    cmap = ['Oranges','Oranges','Oranges','Blues','Greys','Greens','Greens','Greens','Greens','Purples','Purples','Purples','Purples']\n",
    "    min_ = 0.0001\n",
    "\n",
    "    #data['y'][0]\n",
    "    #print(data['pdgId'])\n",
    "\n",
    "    print(\"X_train shape\",X_train.shape)\n",
    "    #nJets = list(data['y'][0].size())[0]\n",
    "    #nJets = list(data['X_jet'].shape)[0]\n",
    "    #print(\"there are \", nJets, \"jets in the event\")\n",
    "\n",
    "    #break\n",
    "    print(nJets)\n",
    "    for jet in range(nJets):\n",
    "        img = X_train[jet,:,:,:]\n",
    "        print(\"JET LABEL IS  \", jet)\n",
    "        break\n",
    "        #Selecting only taus\n",
    "        #if y_train[jet] == 0: continue\n",
    "        #histogram = hp.Hist1D(data, bins=30)\n",
    "        #histogram.plot()\n",
    "        #plt.hist(img[0,:,:],bins=100,histtype='step')\n",
    "        #plt.show()\n",
    "\n",
    "        \n",
    "        "
   ]
  },
  {
   "cell_type": "code",
   "execution_count": null,
   "id": "1fe80079",
   "metadata": {},
   "outputs": [],
   "source": [
    "pf = pq.ParquetFile(fileStr)"
   ]
  },
  {
   "cell_type": "code",
   "execution_count": null,
   "id": "d4c43347",
   "metadata": {},
   "outputs": [],
   "source": [
    "pf.metadata"
   ]
  },
  {
   "cell_type": "code",
   "execution_count": null,
   "id": "f87f7ec6",
   "metadata": {},
   "outputs": [],
   "source": [
    "import pandas as pd"
   ]
  },
  {
   "cell_type": "code",
   "execution_count": null,
   "id": "a7250264",
   "metadata": {},
   "outputs": [],
   "source": [
    "df = pd.read_parquet(fileStr)"
   ]
  },
  {
   "cell_type": "code",
   "execution_count": null,
   "id": "5adb6686",
   "metadata": {},
   "outputs": [],
   "source": [
    "df.columns"
   ]
  },
  {
   "cell_type": "code",
   "execution_count": null,
   "id": "df4e74c4",
   "metadata": {},
   "outputs": [],
   "source": [
    "\n"
   ]
  }
 ],
 "metadata": {
  "@webio": {
   "lastCommId": null,
   "lastKernelId": null
  },
  "kernelspec": {
   "display_name": "Python 3",
   "language": "python",
   "name": "python3"
  },
  "language_info": {
   "codemirror_mode": {
    "name": "ipython",
    "version": 3
   },
   "file_extension": ".py",
   "mimetype": "text/x-python",
   "name": "python",
   "nbconvert_exporter": "python",
   "pygments_lexer": "ipython3",
   "version": "3.9.12"
  }
 },
 "nbformat": 4,
 "nbformat_minor": 5
}
