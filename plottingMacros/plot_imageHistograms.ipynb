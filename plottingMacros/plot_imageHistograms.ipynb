{
 "cells": [
  {
   "cell_type": "code",
   "execution_count": 1,
   "id": "d5461584",
   "metadata": {},
   "outputs": [
    {
     "name": "stdout",
     "output_type": "stream",
     "text": [
      "Welcome to JupyROOT 6.28/06\n"
     ]
    }
   ],
   "source": [
    "#from torch.utils.data import *\n",
    "from sklearn.metrics import roc_curve, auc\n",
    "from torch.utils.data import ConcatDataset, Dataset, DataLoader, sampler, DistributedSampler\n",
    "\n",
    "import pyarrow.parquet as pq\n",
    "import pyarrow as pa # pip install pyarrow==0.7.1\n",
    "import ROOT\n",
    "import numpy as np\n",
    "np.random.seed(0)\n",
    "import glob, os\n",
    "\n",
    "import dask.array as da"
   ]
  },
  {
   "cell_type": "code",
   "execution_count": 2,
   "id": "bccb6e15",
   "metadata": {},
   "outputs": [],
   "source": [
    "from ROOT import TCanvas, TPad, TFile, TPaveText, TLegend\n",
    "from ROOT import gBenchmark, gStyle, gROOT, TStyle\n",
    "from ROOT import TH1D, TF1, TGraphErrors, TMultiGraph"
   ]
  },
  {
   "cell_type": "code",
   "execution_count": 3,
   "id": "29516ab9",
   "metadata": {},
   "outputs": [],
   "source": [
    "histName = ['ECAL_energy', 'HBHE_energy','ECAL_tracksPt_atECALfixIP','ECAL_tracksD0Sig_atECALfixIP','ECAL_tracksDzSig_atECALfixIP',\n",
    "         'BPIX_layer1_ECAL_atPV','BPIX_layer2_ECAL_atPV', 'BPIX_layer3_ECAL_atPV','BPIX_layer4_ECAL_atPV',\n",
    "         'TIB_layer1_ECAL_atPV','TIB_layer2_ECAL_atPV','TOB_layer1_ECAL_atPV','TOB_layer2_ECAL_atPV']\n",
    "\n",
    "histTitles = ['ECAL energy (GeV)', 'HCAL energy (GeV)','Track pT (GeV)','D0 Significance','Dz Significance',\n",
    "         'BPIX layer1','BPIX layer2', 'BPIX layer3','BPIX layer4', \n",
    "         'TIB layer1','TIB layer2','TOB layer1','TOB layer2']\n",
    "\n",
    "saveHists = ['ECAL_energy', 'HCAL_energy','Track_pT','D0_Significance','Dz_Significance',\n",
    "         'BPIX_layer1','BPIX_layer2', 'BPIX_layer3','BPIX_layer4', \n",
    "         'TIB_layer1','TIB_layer2','TOB_layer1','TOB_layer2']"
   ]
  },
  {
   "cell_type": "code",
   "execution_count": 4,
   "id": "57ef3ad2",
   "metadata": {},
   "outputs": [],
   "source": [
    "histograms = {}"
   ]
  },
  {
   "cell_type": "code",
   "execution_count": 5,
   "id": "cdc18527",
   "metadata": {},
   "outputs": [],
   "source": [
    "files_ = []\n",
    "\n",
    "files_.append(TFile.Open('output_dataTau.root'))"
   ]
  },
  {
   "cell_type": "code",
   "execution_count": 6,
   "id": "a9389b39",
   "metadata": {},
   "outputs": [],
   "source": [
    "for iHist in histName: \n",
    "    histograms[iHist] = files_[0].Get('fevt/'+iHist)\n",
    "    "
   ]
  },
  {
   "cell_type": "code",
   "execution_count": 7,
   "id": "e39f0971",
   "metadata": {},
   "outputs": [
    {
     "data": {
      "text/plain": [
       "{'ECAL_energy': <cppyy.gbl.TProfile2D object at 0x10445110>,\n",
       " 'HBHE_energy': <cppyy.gbl.TProfile2D object at 0x1050ede0>,\n",
       " 'ECAL_tracksPt_atECALfixIP': <cppyy.gbl.TProfile2D object at 0x1050c0a0>,\n",
       " 'ECAL_tracksD0Sig_atECALfixIP': <cppyy.gbl.TProfile2D object at 0x1050c580>,\n",
       " 'ECAL_tracksDzSig_atECALfixIP': <cppyy.gbl.TProfile2D object at 0x1050ca60>,\n",
       " 'BPIX_layer1_ECAL_atPV': <cppyy.gbl.TH2F object at 0x1050d0c0>,\n",
       " 'BPIX_layer2_ECAL_atPV': <cppyy.gbl.TH2F object at 0x10612310>,\n",
       " 'BPIX_layer3_ECAL_atPV': <cppyy.gbl.TH2F object at 0x10610750>,\n",
       " 'BPIX_layer4_ECAL_atPV': <cppyy.gbl.TH2F object at 0x10610b60>,\n",
       " 'TIB_layer1_ECAL_atPV': <cppyy.gbl.TH2F object at 0x10611110>,\n",
       " 'TIB_layer2_ECAL_atPV': <cppyy.gbl.TH2F object at 0x10617a90>,\n",
       " 'TOB_layer1_ECAL_atPV': <cppyy.gbl.TH2F object at 0x106115c0>,\n",
       " 'TOB_layer2_ECAL_atPV': <cppyy.gbl.TH2F object at 0x10617260>}"
      ]
     },
     "execution_count": 7,
     "metadata": {},
     "output_type": "execute_result"
    }
   ],
   "source": [
    "histograms"
   ]
  },
  {
   "cell_type": "code",
   "execution_count": 8,
   "id": "2d552a48",
   "metadata": {},
   "outputs": [],
   "source": [
    "def drawHistograms(hist, histTitle, saveHist):\n",
    "    print(hist)\n",
    "    canvas = ROOT.TCanvas(\"canvas\", \"Profile Histogram\", 800, 600)\n",
    "    ROOT.gStyle.SetOptStat(0)\n",
    "    hist.SetTitle(histTitle)\n",
    "    hist.Draw(\"colz\")  # \"E\" option draws the histogram with errors\n",
    "\n",
    "    ROOT.gPad.Update()\n",
    "    # Show the canvas\n",
    "    canvas.Draw()\n",
    "    canvas.Update()\n",
    "    #canvas.SaveAs('ECAL_energy.C')\n",
    "    canvas.SaveAs(saveHist+'.png')\n",
    "    "
   ]
  },
  {
   "cell_type": "code",
   "execution_count": 9,
   "id": "5201892c",
   "metadata": {},
   "outputs": [
    {
     "name": "stdout",
     "output_type": "stream",
     "text": [
      "Name: ECAL_energy Title: E(i#phi,i#eta) NbinsX: 360\n",
      "Name: HBHE_energy Title: E(i#phi,i#eta) NbinsX: 72\n",
      "Name: ECAL_tracksPt_atECALfixIP Title: E(i#phi,i#eta) NbinsX: 360\n",
      "Name: ECAL_tracksD0Sig_atECALfixIP Title: E(i#phi,i#eta) NbinsX: 360\n",
      "Name: ECAL_tracksDzSig_atECALfixIP Title: E(i#phi,i#eta) NbinsX: 360\n",
      "Name: BPIX_layer1_ECAL_atPV Title: N(i#phi,i#eta) NbinsX: 360\n",
      "Name: BPIX_layer2_ECAL_atPV Title: N(i#phi,i#eta) NbinsX: 360\n",
      "Name: BPIX_layer3_ECAL_atPV Title: N(i#phi,i#eta) NbinsX: 360\n",
      "Name: BPIX_layer4_ECAL_atPV Title: N(i#phi,i#eta) NbinsX: 360\n",
      "Name: TIB_layer1_ECAL_atPV Title: N(i#phi,i#eta) NbinsX: 360\n",
      "Name: TIB_layer2_ECAL_atPV Title: N(i#phi,i#eta) NbinsX: 360\n",
      "Name: TOB_layer1_ECAL_atPV Title: N(i#phi,i#eta) NbinsX: 360\n",
      "Name: TOB_layer2_ECAL_atPV Title: N(i#phi,i#eta) NbinsX: 360\n"
     ]
    },
    {
     "name": "stderr",
     "output_type": "stream",
     "text": [
      "Info in <TCanvas::Print>: png file ECAL_energy.png has been created\n",
      "Info in <TCanvas::Print>: png file HCAL_energy.png has been created\n",
      "Info in <TCanvas::Print>: png file Track_pT.png has been created\n",
      "Info in <TCanvas::Print>: png file D0_Significance.png has been created\n",
      "Info in <TCanvas::Print>: png file Dz_Significance.png has been created\n",
      "Info in <TCanvas::Print>: png file BPIX_layer1.png has been created\n",
      "Info in <TCanvas::Print>: png file BPIX_layer2.png has been created\n",
      "Info in <TCanvas::Print>: png file BPIX_layer3.png has been created\n",
      "Info in <TCanvas::Print>: png file BPIX_layer4.png has been created\n",
      "Info in <TCanvas::Print>: png file TIB_layer1.png has been created\n",
      "Info in <TCanvas::Print>: png file TIB_layer2.png has been created\n",
      "Info in <TCanvas::Print>: png file TOB_layer1.png has been created\n",
      "Info in <TCanvas::Print>: png file TOB_layer2.png has been created\n"
     ]
    }
   ],
   "source": [
    "for index, (key, value) in enumerate(list(histograms.items())):\n",
    "#for i in range(len(histograms)):\n",
    "    #print(histograms.keys()[i])\n",
    "    drawHistograms(histograms[key],histTitles[index],saveHists[index])"
   ]
  },
  {
   "cell_type": "code",
   "execution_count": 10,
   "id": "3d06e736",
   "metadata": {},
   "outputs": [
    {
     "name": "stderr",
     "output_type": "stream",
     "text": [
      "Info in <TCanvas::SaveSource>: C++ Macro file: ECAL_energy.C has been generated\n",
      "Info in <TCanvas::Print>: png file ECAL_energy.png has been created\n"
     ]
    },
    {
     "data": {
      "image/png": "[encoded data removed]",
      "text/plain": [
       "<IPython.core.display.Image object>"
      ]
     },
     "metadata": {},
     "output_type": "display_data"
    }
   ],
   "source": [
    "canvas = ROOT.TCanvas(\"canvas\", \"Profile Histogram\", 800, 600)\n",
    "histograms['ECAL_energy'].Draw(\"colz\")\n",
    "ROOT.gPad.Update()\n",
    "# Show the canvas\n",
    "canvas.Draw()\n",
    "canvas.Update()\n",
    "canvas.SaveAs('ECAL_energy.C')\n",
    "canvas.SaveAs('ECAL_energy.png')"
   ]
  },
  {
   "cell_type": "code",
   "execution_count": null,
   "id": "d877afac",
   "metadata": {},
   "outputs": [],
   "source": [
    "c1.Draw()"
   ]
  },
  {
   "cell_type": "code",
   "execution_count": null,
   "id": "268c925b",
   "metadata": {},
   "outputs": [],
   "source": [
    "ECAL_energy= files_[0].Get('fevt/ECAL_energy')"
   ]
  },
  {
   "cell_type": "code",
   "execution_count": null,
   "id": "b14758a8",
   "metadata": {},
   "outputs": [],
   "source": [
    "type(ECAL_energy)"
   ]
  },
  {
   "cell_type": "code",
   "execution_count": null,
   "id": "9144b63a",
   "metadata": {},
   "outputs": [],
   "source": [
    "histogram = ECAL_energy"
   ]
  },
  {
   "cell_type": "code",
   "execution_count": null,
   "id": "2e76da38",
   "metadata": {},
   "outputs": [],
   "source": [
    "canvas = ROOT.TCanvas(\"canvas\", \"Profile Histogram\", 800, 600)\n",
    "ROOT.gStyle.SetOptStat(0)\n",
    "histogram.SetTitle(\"ECAL energy (GeV)\")\n",
    "histogram.Draw(\"colz\")  # \"E\" option draws the histogram with errors\n",
    "\n",
    "\n",
    "#ROOT.gStyle.SetOptTitle(0)\n",
    "# Customize canvas and histogram properties if needed\n",
    "#canvas.SetTitle(\"Profile Histogram\")\n",
    "\n",
    "#histogram.GetXaxis().SetTitle(histogram.axis().title)\n",
    "#histogram.GetYaxis().SetTitle(\"Frequency\")\n",
    "\n",
    "ROOT.gPad.Update()\n",
    "# Show the canvas\n",
    "canvas.Draw()\n",
    "canvas.Update()\n",
    "canvas.SaveAs('ECAL_energy.C')\n",
    "canvas.SaveAs('ECAL_energy.png')"
   ]
  },
  {
   "cell_type": "code",
   "execution_count": null,
   "id": "65ae352d",
   "metadata": {},
   "outputs": [],
   "source": []
  }
 ],
 "metadata": {
  "@webio": {
   "lastCommId": null,
   "lastKernelId": null
  },
  "kernelspec": {
   "display_name": "Python 3",
   "language": "python",
   "name": "python3"
  },
  "language_info": {
   "codemirror_mode": {
    "name": "ipython",
    "version": 3
   },
   "file_extension": ".py",
   "mimetype": "text/x-python",
   "name": "python",
   "nbconvert_exporter": "python",
   "pygments_lexer": "ipython3",
   "version": "3.9.12"
  }
 },
 "nbformat": 4,
 "nbformat_minor": 5
}
