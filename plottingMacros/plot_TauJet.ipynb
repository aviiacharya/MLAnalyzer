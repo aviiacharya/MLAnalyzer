{
 "cells": [
  {
   "cell_type": "code",
   "execution_count": 1,
   "metadata": {},
   "outputs": [
    {
     "name": "stdout",
     "output_type": "stream",
     "text": [
      "Welcome to JupyROOT 6.24/02\n"
     ]
    }
   ],
   "source": [
    "#from torch.utils.data import *\n",
    "from sklearn.metrics import roc_curve, auc\n",
    "from torch.utils.data import ConcatDataset, Dataset, DataLoader, sampler, DistributedSampler\n",
    "\n",
    "import pyarrow.parquet as pq\n",
    "import pyarrow as pa # pip install pyarrow==0.7.1\n",
    "import ROOT\n",
    "import numpy as np\n",
    "np.random.seed(0)\n",
    "import glob, os\n",
    "\n",
    "import dask.array as da\n",
    "\n",
    "#from scipy.misc import imresize\n",
    "\n",
    "import matplotlib.pyplot as plt\n",
    "#%matplotlib inline\n",
    "from matplotlib.colors import LogNorm, ListedColormap, LinearSegmentedColormap\n",
    "import matplotlib.ticker as ticker\n",
    "from matplotlib.ticker import MultipleLocator\n",
    "import matplotlib.gridspec as gridspec\n",
    "import matplotlib.patches as mpatches\n",
    "\n",
    "from skimage.measure import block_reduce\n",
    "from numpy.lib.stride_tricks import as_strided"
   ]
  },
  {
   "cell_type": "code",
   "execution_count": 2,
   "metadata": {},
   "outputs": [],
   "source": [
    "fileStr = '/home/ruchi/e2e_tau/MLAnalyzer/convertRootFiles/DYToTauTau_jets.parquet.1'\n",
    "outDir = '/home/ruchi/e2e_tau/MLAnalyzer/plottingMacros/croppedJetIMG'\n",
    "f0s = glob.glob(fileStr)"
   ]
  },
  {
   "cell_type": "code",
   "execution_count": 3,
   "metadata": {},
   "outputs": [],
   "source": [
    "class ParquetDataset(Dataset):\n",
    "    def __init__(self, filename):\n",
    "        self.parquet = pq.ParquetFile(filename)\n",
    "        self.cols = None # read all columns\n",
    "        #self.cols = ['X_jet.list.item.list.item.list.item','y'] \n",
    "    def __getitem__(self, index):\n",
    "        data = self.parquet.read_row_group(index, columns=self.cols).to_pydict()\n",
    "        data['X_jet'] = np.float32(data['X_jet'][0])\n",
    "        #data['y'] = np.float32(data['y'])\n",
    "        data['m0'] = np.float32(data['jetM'])\n",
    "        data['pt'] = np.float32(data['jetPt'])\n",
    "        # Preprocessing\n",
    "        data['X_jet'][data['X_jet'] < 1.e-3] = 0. # Zero-Suppression\n",
    "        data['X_jet'][4,...] = 25.*data['X_jet'][4,...] # For HCAL: to match pixel intensity dist of other layers\n",
    "        data['X_jet'] = data['X_jet']/100. # To standardize\n",
    "        return dict(data)\n",
    "    def __len__(self):\n",
    "        return self.parquet.num_row_groups"
   ]
  },
  {
   "cell_type": "code",
   "execution_count": 4,
   "metadata": {},
   "outputs": [],
   "source": [
    "def custom_div_cmap(numcolors=11, name='custom_div_cmap',mincol='blue', midcol='white', maxcol='red'):\n",
    "    cmap = LinearSegmentedColormap.from_list(name=name,colors=[mincol, midcol, maxcol],N=numcolors)\n",
    "    return cmap\n",
    "\n",
    "pink_map = custom_div_cmap(50, mincol='#FFFFFF', midcol='#F699CD' ,maxcol='#FF1694')"
   ]
  },
  {
   "cell_type": "code",
   "execution_count": 5,
   "metadata": {},
   "outputs": [],
   "source": [
    "def plotJet(img, mins, maxs, str_):\n",
    "    #im = plt.imshow(np.zeros_like(img[8,:,:]), cmap='Purples', vmin=0., vmax=1., alpha=0.9)\n",
    "    #if maxs[-1] > 0 : plt.imshow(img[8,:,:], cmap='Greens', norm=LogNorm(), alpha=0.9, vmin=mins[-1], vmax=maxs[-1])\n",
    "    if maxs[-1] > 0 : plt.imshow(img[7,:,:], cmap='Purples', norm=LogNorm(), alpha=0.9, vmin=mins[-1], vmax=maxs[-1])\n",
    "    if maxs[-2] > 0 : plt.imshow(img[6,:,:], cmap='Blues', norm=LogNorm(), alpha=0.9, vmin=mins[-2], vmax=maxs[-2])\n",
    "    if maxs[-3] > 0 : plt.imshow(img[5,:,:], cmap='Greens', norm=LogNorm(), alpha=0.9, vmin=mins[-3], vmax=maxs[-3])\n",
    "    #if maxs[-4] > 0 : plt.imshow(img[4,:,:], cmap='Greys',  norm=LogNorm(), alpha=0.9, vmin=mins[-4], vmax=maxs[-4])\n",
    "    #if maxs[-5] > 0 : plt.imshow(img[3,:,:], cmap='Blues',  norm=LogNorm(), alpha=0.9, vmin=mins[-5], vmax=maxs[-5])\n",
    "    #if maxs[-6] > 0 : plt.imshow(img[0,:,:], cmap='Oranges',norm=LogNorm(), alpha=0.9, vmin=mins[-6], vmax=maxs[-6])\n",
    "    #plt.colorbar(fraction=0.046, pad=0.04)\n",
    "\n",
    "    #X AXIS\n",
    "    ax = plt.axes()\n",
    "    plt.xlim([0., 125.+0.])\n",
    "    plt.xticks(np.arange(0,150,25))\n",
    "    ax_range_x = np.arange(0,125+25,25)\n",
    "    ax.set_xticks(ax_range_x)\n",
    "    ax.set_xticklabels(ax_range_x)\n",
    "    plt.xlabel(r\"$\\mathrm{i\\varphi}'$\", size=28) #28, 30\n",
    "    ax.xaxis.set_tick_params(direction='in', which='major', length=6.)\n",
    "    ax.xaxis.set_tick_params(direction='in', which='minor', length=3.)\n",
    "\n",
    "    #Y AXIS\n",
    "    plt.ylim([125.+0.,0.])\n",
    "    plt.yticks(np.arange(150,0,25))\n",
    "    plt.ylabel(r\"$\\mathrm{i\\eta}'$\", size=28) #28, 30\n",
    "    ax_range_y = np.arange(0,125+25,25)\n",
    "    ax.set_yticks(ax_range_y)\n",
    "    ax.set_yticklabels(ax_range_y)\n",
    "    ax.yaxis.set_tick_params(direction='in', which='major', length=6.)\n",
    "    ax.yaxis.set_tick_params(direction='in', which='minor', length=3.)\n",
    "\n",
    "    #LEGEND\n",
    "    #colors = {1:'tab:orange',2:'tab:blue',3:'tab:grey',4:'tab:green',5:'tab:blue',6:'tab:purple',7:'tab:green'}\n",
    "    colors = {1:'orange',2:'lightblue',3:'grey',4:'green',5:'blue',6:'purple'}\n",
    "    #labels = {1:'Track pT',2:'ECAL',3:'HCAL',4:'PXB1',5:'PXB2',6:'PXB3',7:'PXB4'}\n",
    "    labels = {1:'Track pT',2:'ECAL',3:'HCAL',4:'BPix L1',5:'BPix L2',6:'BPix L3'}\n",
    "    patches =[mpatches.Patch(color=colors[i],label=labels[i]) for i in colors]\n",
    "    #plt.legend(handles=patches, bbox_to_anchor=(1.05, 1), loc=2, borderaxespad=0. )\n",
    "    plt.legend(handles=patches, loc='center left', bbox_to_anchor=(1, 0.5))\n",
    "    #plt.savefig(str_, bbox_inches='tight')\n",
    "    plt.savefig(str_, bbox_inches='tight', format='png')\n",
    "    #plt.show()\n",
    "    plt.clf()"
   ]
  },
  {
   "cell_type": "code",
   "execution_count": 6,
   "metadata": {},
   "outputs": [
    {
     "name": "stdout",
     "output_type": "stream",
     "text": [
      "there are  2 jets in the event\n",
      "JET LABEL IS   0\n",
      "Min =  [0.0001, 0.0001, 0.0001, 0.0001, 0.0001, 0.0001, 0.0001]  | Max =  [tensor(0.2292), tensor(0.0006), tensor(0.1893), tensor(0.2200), tensor(0.0900), tensor(0.0700), tensor(0.1000)]\n"
     ]
    },
    {
     "name": "stderr",
     "output_type": "stream",
     "text": [
      "<ipython-input-5-afd5b550a7c8>:13: MatplotlibDeprecationWarning: Adding an axes using the same arguments as a previous axes currently reuses the earlier instance.  In a future version, a new instance will always be created and returned.  Meanwhile, this warning can be suppressed, and the future behavior ensured, by passing a unique label to each axes instance.\n",
      "  ax = plt.axes()\n",
      "findfont: Font family ['Helvetica'] not found. Falling back to DejaVu Sans.\n",
      "findfont: Font family ['Helvetica'] not found. Falling back to DejaVu Sans.\n"
     ]
    },
    {
     "name": "stdout",
     "output_type": "stream",
     "text": [
      "JET LABEL IS   1\n",
      "Min =  [0.0001, 0.0001, 0.0001, 0.0001, 0.0001, 0.0001, 0.0001]  | Max =  [tensor(0.1882), tensor(0.0390), tensor(0.1241), tensor(0.1800), tensor(0.1300), tensor(0.1100), tensor(0.0600)]\n",
      "there are  2 jets in the event\n",
      "JET LABEL IS   0\n",
      "Min =  [0.0001, 0.0001, 0.0001, 0.0001, 0.0001, 0.0001, 0.0001]  | Max =  [tensor(0.2088), tensor(0.1453), tensor(0.0265), tensor(0.5900), tensor(0.2300), tensor(0.1500), tensor(0.0800)]\n",
      "JET LABEL IS   1\n",
      "Min =  [0.0001, 0.0001, 0.0001, 0.0001, 0.0001, 0.0001, 0.0001]  | Max =  [tensor(0.1745), tensor(0.0435), tensor(0.0232), tensor(0.7600), tensor(0.2100), tensor(0.3200), tensor(0.1700)]\n",
      "there are  2 jets in the event\n",
      "JET LABEL IS   0\n",
      "Min =  [0.0001, 0.0001, 0.0001, 0.0001, 0.0001, 0.0001, 0.0001]  | Max =  [tensor(0.2318), tensor(0.1136), tensor(0.0418), tensor(0.4800), tensor(0.1900), tensor(0.1000), tensor(0.0800)]\n",
      "JET LABEL IS   1\n",
      "Min =  [0.0001, 0.0001, 0.0001, 0.0001, 0.0001, 0.0001, 0.0001]  | Max =  [tensor(0.2229), tensor(0.0281), tensor(0.1219), tensor(0.5700), tensor(0.2700), tensor(0.1500), tensor(0.1100)]\n",
      "there are  2 jets in the event\n",
      "JET LABEL IS   0\n",
      "Min =  [0.0001, 0.0001, 0.0001, 0.0001, 0.0001, 0.0001, 0.0001]  | Max =  [tensor(0.0322), tensor(0.0426), tensor(0.0435), tensor(0.3200), tensor(0.1400), tensor(0.0700), tensor(0.0800)]\n",
      "JET LABEL IS   1\n",
      "Min =  [0.0001, 0.0001, 0.0001, 0.0001, 0.0001, 0.0001, 0.0001]  | Max =  [tensor(0.1090), tensor(0.0989), tensor(0.0378), tensor(0.6000), tensor(0.1700), tensor(0.0900), tensor(0.0800)]\n",
      "there are  2 jets in the event\n",
      "JET LABEL IS   0\n",
      "Min =  [0.0001, 0.0001, 0.0001, 0.0001, 0.0001, 0.0001, 0.0001]  | Max =  [tensor(0.1898), tensor(0.1086), tensor(0.0805), tensor(0.4600), tensor(0.1600), tensor(0.1000), tensor(0.1100)]\n",
      "JET LABEL IS   1\n",
      "Min =  [0.0001, 0.0001, 0.0001, 0.0001, 0.0001, 0.0001, 0.0001]  | Max =  [tensor(0.1632), tensor(0.0517), tensor(0.0510), tensor(0.3800), tensor(0.1600), tensor(0.1100), tensor(0.0600)]\n",
      "there are  2 jets in the event\n",
      "JET LABEL IS   0\n",
      "Min =  [0.0001, 0.0001, 0.0001, 0.0001, 0.0001, 0.0001, 0.0001]  | Max =  [tensor(0.0400), tensor(0.7172), tensor(0.0525), tensor(0.2200), tensor(0.1000), tensor(0.0700), tensor(0.1100)]\n",
      "JET LABEL IS   1\n",
      "Min =  [0.0001, 0.0001, 0.0001, 0.0001, 0.0001, 0.0001, 0.0001]  | Max =  [tensor(0.0893), tensor(0.1251), tensor(0.0531), tensor(0.2500), tensor(0.1100), tensor(0.0900), tensor(0.0500)]\n",
      "there are  2 jets in the event\n",
      "JET LABEL IS   0\n",
      "Min =  [0.0001, 0.0001, 0.0001, 0.0001, 0.0001, 0.0001, 0.0001]  | Max =  [tensor(0.1200), tensor(0.0217), tensor(0.1096), tensor(0.4600), tensor(0.2000), tensor(0.1500), tensor(0.0800)]\n",
      "JET LABEL IS   1\n",
      "Min =  [0.0001, 0.0001, 0.0001, 0.0001, 0.0001, 0.0001, 0.0001]  | Max =  [tensor(0.0586), tensor(0.0779), tensor(0.0586), tensor(0.5000), tensor(0.1800), tensor(0.1100), tensor(0.0900)]\n",
      "there are  1 jets in the event\n",
      "JET LABEL IS   0\n",
      "Min =  [0.0001, 0.0001, 0.0001, 0.0001, 0.0001, 0.0001, 0.0001]  | Max =  [tensor(0.0604), tensor(0.0016), tensor(0.0499), tensor(0.4100), tensor(0.1600), tensor(0.1300), tensor(0.1400)]\n"
     ]
    },
    {
     "data": {
      "text/plain": [
       "<Figure size 864x864 with 0 Axes>"
      ]
     },
     "metadata": {},
     "output_type": "display_data"
    }
   ],
   "source": [
    "dset_train = ParquetDataset(fileStr)\n",
    "train_cut = 50\n",
    "idxs = np.random.permutation(len(dset_train))\n",
    "train_sampler = sampler.SubsetRandomSampler(idxs[:train_cut])\n",
    "#train_loader = DataLoader(dataset=dset_train, batch_size=32, num_workers=0, sampler=train_sampler, pin_memory=True)\n",
    "train_loader = DataLoader(dataset=dset_train, batch_size=2, num_workers=0, shuffle=False, pin_memory=True)\n",
    "for i, data in enumerate(train_loader):\n",
    "    #if i < args.skipEvents: continue\n",
    "    #print (\" Event \", i)\n",
    "      \n",
    "    #if i == args.nEvents: break\n",
    "    X_train = data['X_jet']\n",
    "    y_train = data['y']\n",
    "\n",
    "    #print(type(X_train))\n",
    "    \n",
    "    plt.rcParams[\"font.family\"] = \"Helvetica\"\n",
    "    plt.rcParams[\"figure.figsize\"] = (12,12)\n",
    "    #plt.rcParams[\"axes.facecolor\"] = \"white\"\n",
    "    plt.rcParams.update({'font.size': 26})\n",
    "    \n",
    "    cmap = ['Oranges','Blues','Greys','Reds',pink_map,'Purples','Greens']\n",
    "    min_ = 0.0001\n",
    "\n",
    "    #data['y'][0]\n",
    "    #print(data['pdgId'])\n",
    "\n",
    "    nJets = list(data['y'][0].size())[0]\n",
    "    print(\"there are \", nJets, \"jets in the event\")\n",
    "\n",
    "    for jet in range(nJets):\n",
    "        img = X_train[jet,:,:,:]\n",
    "        print(\"JET LABEL IS  \", jet)\n",
    "        #Selecting only taus\n",
    "        #if y_train[jet] == 0: continue\n",
    "\n",
    "        \n",
    "        '''for ch in range(7):\n",
    "            img_ = img[ch,:,:]\n",
    "            max_ = img_.max()\n",
    "            if max_ == 0: continue\n",
    "            print \"Channel \", ch, \" , Max = \", max_\n",
    "            plotJet_chnl(img_, cmap[ch], min_, max_, '%s/tau_event%d_jet%d_chnl%d.png'%(outDir,i,jet,ch))'''\n",
    "        \n",
    "\n",
    "        mins = [0.0001]*7\n",
    "        maxs = [X_train[jet,0,:,:].max(), X_train[jet,3,:,:].max(), X_train[jet,4,:,:].max(), \n",
    "                X_train[jet,5,:,:].max(), X_train[jet,6,:,:].max(), X_train[jet,7,:,:].max(), X_train[jet,8,:,:].max()]\n",
    "        print (\"Min = \", mins, \" | Max = \", maxs)\n",
    "        plotJet(img, mins, maxs, '%s/tau_event%d_jet%d.png'%(outDir,i,jet))"
   ]
  },
  {
   "cell_type": "code",
   "execution_count": null,
   "metadata": {},
   "outputs": [],
   "source": []
  }
 ],
 "metadata": {
  "kernelspec": {
   "display_name": "Python 3",
   "language": "python",
   "name": "python3"
  },
  "language_info": {
   "codemirror_mode": {
    "name": "ipython",
    "version": 3
   },
   "file_extension": ".py",
   "mimetype": "text/x-python",
   "name": "python",
   "nbconvert_exporter": "python",
   "pygments_lexer": "ipython3",
   "version": "3.8.3"
  }
 },
 "nbformat": 4,
 "nbformat_minor": 5
}
