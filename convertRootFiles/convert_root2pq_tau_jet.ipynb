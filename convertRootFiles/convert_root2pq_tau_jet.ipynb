{
 "cells": [
  {
   "cell_type": "code",
   "execution_count": 1,
   "metadata": {},
   "outputs": [
    {
     "name": "stdout",
     "output_type": "stream",
     "text": [
      "Welcome to JupyROOT 6.26/08\n"
     ]
    }
   ],
   "source": [
    "import pyarrow.parquet as pq\n",
    "import pyarrow as pa # pip install pyarrow==0.7.1\n",
    "import ROOT\n",
    "import numpy as np\n",
    "import glob, os\n",
    "from skimage.measure import block_reduce # pip install scikit-image\n",
    "from numpy.lib.stride_tricks import as_strided"
   ]
  },
  {
   "cell_type": "code",
   "execution_count": 2,
   "metadata": {},
   "outputs": [],
   "source": [
    "def upsample_array(x, b0, b1):\n",
    "\n",
    "    r, c = x.shape                                    # number of rows/columns\n",
    "    rs, cs = x.strides                                # row/column strides\n",
    "    x = as_strided(x, (r, b0, c, b1), (rs, 0, cs, 0)) # view as a larger 4D array\n",
    "\n",
    "    return x.reshape(r*b0, c*b1)/(b0*b1)              # create new 2D array with same total occupancy \n",
    "\n",
    "def resample_EE(imgECAL, factor=2):\n",
    "\n",
    "    # EE-\n",
    "    imgEEm = imgECAL[:140-85] # EE- in the first 55 rows\n",
    "    imgEEm = np.pad(imgEEm, ((1,0),(0,0)), 'constant', constant_values=0) # for even downsampling, zero pad 55 -> 56\n",
    "    imgEEm_dn = block_reduce(imgEEm, block_size=(factor, factor), func=np.sum) # downsample by summing over [factor, factor] window\n",
    "    imgEEm_dn_up = upsample_array(imgEEm_dn, factor, factor)/(factor*factor) # upsample will use same values so need to correct scale by factor**2\n",
    "    imgECAL[:140-85] = imgEEm_dn_up[1:] ## replace the old EE- rows\n",
    "\n",
    "    # EE+\n",
    "    imgEEp = imgECAL[140+85:] # EE+ in the last 55 rows\n",
    "    imgEEp = np.pad(imgEEp, ((0,1),(0,0)), 'constant', constant_values=0) # for even downsampling, zero pad 55 -> 56\n",
    "    imgEEp_dn = block_reduce(imgEEp, block_size=(factor, factor), func=np.sum) # downsample by summing over [factor, factor] window\n",
    "    imgEEp_dn_up = upsample_array(imgEEp_dn, factor, factor)/(factor*factor) # upsample will use same values so need to correct scale by factor*factor\n",
    "    imgECAL[140+85:] = imgEEp_dn_up[:-1] # replace the old EE+ rows\n",
    "\n",
    "    return imgECAL\n",
    "\n",
    "def crop_jet(imgECAL, iphi, ieta, jet_shape=125):\n",
    "\n",
    "    # NOTE: jet_shape here should correspond to the one used in RHAnalyzer\n",
    "    off = jet_shape//2\n",
    "    iphi = int(iphi*5 + 2) # 5 EB xtals per HB tower\n",
    "    ieta = int(ieta*5 + 2) # 5 EB xtals per HB tower\n",
    "\n",
    "    # Wrap-around on left side\n",
    "    if iphi < off:\n",
    "        diff = off-iphi\n",
    "        img_crop = np.concatenate((imgECAL[:,ieta-off:ieta+off+1,-diff:],\n",
    "                                   imgECAL[:,ieta-off:ieta+off+1,:iphi+off+1]), axis=-1)\n",
    "    # Wrap-around on right side\n",
    "    elif 360-iphi < off:\n",
    "        diff = off - (360-iphi)\n",
    "        img_crop = np.concatenate((imgECAL[:,ieta-off:ieta+off+1,iphi-off:],\n",
    "                                   imgECAL[:,ieta-off:ieta+off+1,:diff+1]), axis=-1)\n",
    "    # Nominal case\n",
    "    else:\n",
    "        img_crop = imgECAL[:,ieta-off:ieta+off+1,iphi-off:iphi+off+1]\n",
    "\n",
    "    return img_crop"
   ]
  },
  {
   "cell_type": "code",
   "execution_count": 13,
   "metadata": {},
   "outputs": [],
   "source": [
    "infile = '/eos/cms/store/group/phys_heavyions/rchudasa/e2e/RHAnalyzer_Ntuples/DYToTauTau_M-50_13TeV/output_203.root'\n",
    "outdir = '/eos/cms/store/group/phys_heavyions/rchudasa/e2e/RHAnalyzer_Ntuples/DYToTauTau_M-50_13TeV'\n",
    "decay = 'DYToTauTau_M-50_13TeV'\n",
    "idx = 0"
   ]
  },
  {
   "cell_type": "code",
   "execution_count": 14,
   "metadata": {},
   "outputs": [
    {
     "name": "stdout",
     "output_type": "stream",
     "text": [
      " >> Input file: /eos/cms/store/group/phys_heavyions/rchudasa/e2e/RHAnalyzer_Ntuples/DYToTauTau_M-50_13TeV/output_203.root\n",
      " >> nEvts: 504\n",
      " >> Output file: /eos/cms/store/group/phys_heavyions/rchudasa/e2e/RHAnalyzer_Ntuples/DYToTauTau_M-50_13TeV/DYToTauTau_M-50_13TeV.parquet.0\n"
     ]
    }
   ],
   "source": [
    "rhTreeStr = infile \n",
    "rhTree = ROOT.TChain(\"fevt/RHTree\")\n",
    "rhTree.Add(rhTreeStr)\n",
    "nEvts = rhTree.GetEntries()\n",
    "assert nEvts > 0\n",
    "print (\" >> Input file:\",rhTreeStr)\n",
    "print (\" >> nEvts:\",nEvts)\n",
    "outStr = '%s/%s.parquet.%d'%(outdir, decay, idx) \n",
    "print (\" >> Output file:\",outStr)"
   ]
  },
  {
   "cell_type": "code",
   "execution_count": 15,
   "metadata": {},
   "outputs": [
    {
     "name": "stdout",
     "output_type": "stream",
     "text": [
      " >> Processing entries: [ 0 -> 10 )\n",
      " .. Processing entry 0\n",
      "2126.1619 { 2126.16f }\n",
      "2126.1619 { 2126.16f }\n",
      "1919.4928 { 1919.49f }\n",
      "1137.9863 { 1137.99f }\n",
      "1256.2809 { 1256.28f }\n",
      "1256.2809 { 1256.28f }\n",
      "2035.8296 { 2035.83f }\n",
      "1407.0565 { 1407.06f }\n",
      "1407.0565 { 1407.06f }\n",
      "703.43207 { 703.432f }\n",
      "1298.7124 { 1298.71f }\n",
      "1705.1776 { 1705.18f }\n",
      "1705.1776 { 1705.18f }\n",
      "2686.8032 { 2686.80f }\n",
      " >> nJets: 14\n",
      " >> Real time: 0.054374484221140544 minutes\n",
      " >> CPU time:  0.04783333333333329 minutes\n",
      "========================================================\n"
     ]
    }
   ],
   "source": [
    "# Event range to process\n",
    "iEvtStart = 0\n",
    "iEvtEnd   = 10\n",
    "#iEvtEnd   = nEvts \n",
    "assert iEvtEnd <= nEvts\n",
    "print (\" >> Processing entries: [\",iEvtStart,\"->\",iEvtEnd,\")\")\n",
    "\n",
    "nJets = 0\n",
    "data = {} # Arrays to be written to parquet should be saved to data dict\n",
    "sw = ROOT.TStopwatch()\n",
    "sw.Start()\n",
    "for iEvt in range(iEvtStart,iEvtEnd):\n",
    "\n",
    "    # Initialize event\n",
    "    rhTree.GetEntry(iEvt)\n",
    "\n",
    "    if iEvt % 10 == 0:\n",
    "        print (\" .. Processing entry\",iEvt)\n",
    "\n",
    "    ECAL_energy = np.array(rhTree.ECAL_energy).reshape(280,360)\n",
    "    ECAL_energy = resample_EE(ECAL_energy)\n",
    "    HBHE_energy = np.array(rhTree.HBHE_energy).reshape(56,72)\n",
    "    HBHE_energy = upsample_array(HBHE_energy, 5, 5) # (280, 360)\n",
    "    TracksAtECAL_pt    = np.array(rhTree.ECAL_tracksPt_atECALfixIP).reshape(280,360)\n",
    "    TracksAtECAL_dZSig = np.array(rhTree.ECAL_tracksDzSig_atECALfixIP).reshape(280,360)\n",
    "    TracksAtECAL_d0Sig = np.array(rhTree.ECAL_tracksD0Sig_atECALfixIP).reshape(280,360)\n",
    "    PixAtEcal_1        = np.array(rhTree.BPIX_layer1_ECAL_atPV).reshape(280,360)\n",
    "    PixAtEcal_2        = np.array(rhTree.BPIX_layer2_ECAL_atPV).reshape(280,360)\n",
    "    PixAtEcal_3        = np.array(rhTree.BPIX_layer3_ECAL_atPV).reshape(280,360)\n",
    "    PixAtEcal_4        = np.array(rhTree.BPIX_layer4_ECAL_atPV).reshape(280,360)\n",
    "    TibAtEcal_1        = np.array(rhTree.TIB_layer1_ECAL_atPV).reshape(280,360)\n",
    "    TibAtEcal_2        = np.array(rhTree.TIB_layer2_ECAL_atPV).reshape(280,360)\n",
    "    TobAtEcal_1        = np.array(rhTree.TOB_layer1_ECAL_atPV).reshape(280,360)\n",
    "    TobAtEcal_2        = np.array(rhTree.TOB_layer2_ECAL_atPV).reshape(280,360)\n",
    "    #X_CMSII            = np.stack([TracksAtECAL_pt, TracksAtECAL_dZSig, TracksAtECAL_d0Sig, ECAL_energy, HBHE_energy], axis=0) # (5, 280, 360)\n",
    "    #X_CMSII            = np.stack([TracksAtECAL_pt, TracksAtECAL_dZSig, TracksAtECAL_d0Sig, ECAL_energy, HBHE_energy, PixAtEcal_1, PixAtEcal_2, PixAtEcal_3, PixAtEcal_4, TibAtEcal_1, TibAtEcal_2, TobAtEcal_1, TobAtEcal_2], axis=0) # (13, 280, 360)\n",
    "    X_CMSII            = np.stack([TracksAtECAL_pt, TracksAtECAL_dZSig, TracksAtECAL_d0Sig, ECAL_energy, \n",
    "                                   HBHE_energy, PixAtEcal_1, PixAtEcal_2, PixAtEcal_3, PixAtEcal_4, \n",
    "                                   TibAtEcal_1, TibAtEcal_2, TobAtEcal_1, TobAtEcal_2], axis=0) # (13, 280, 360)\n",
    "    #X_CMSII            = np.stack([TracksAtECAL_pt, ECAL_energy, HBHE_energy, PixAtEcal_1, \n",
    "    #                               PixAtEcal_2, PixAtEcal_3, PixAtEcal_4], axis=0) #\n",
    "    #data['X_CMSII']    = np.stack([TracksAtECAL_pt, ECAL_energy, HBHE_energy, PixAtEcal_1, \n",
    "    #                               PixAtEcal_2, PixAtEcal_3, PixAtEcal_4], axis=0) # (7, 280, 360)\n",
    "    #data['X_CMSII'] = np.stack([TracksAtECAL_pt, ECAL_energy, HBHE_energy], axis=0) # (3, 280, 360)\n",
    "    #data['X_CMSII'] = np.stack([TracksAtECAL_pt, TracksAtECAL_dz, TracksAtECAL_d0, ECAL_energy], axis=0) # (4, 280, 360)\n",
    "    #data['X_CMSII'] = np.stack([TracksAtECAL_pt, TracksAtECAL_dz, TracksAtECAL_d0, ECAL_energy, HBHE_energy, PixAtEcal_1, PixAtEcal_2, PixAtEcal_3, PixAtEcal_4], axis=0) # (9, 280, 360)\n",
    "\n",
    "    # Jet attributes \n",
    "    ys      = rhTree.jet_IsTau\n",
    "    jetMs   = rhTree.jet_M\n",
    "    jetPts  = rhTree.jet_Pt\n",
    "    dRs    = rhTree.jet_dR\n",
    "    iphis  = rhTree.jetSeed_iphi\n",
    "    ietas  = rhTree.jetSeed_ieta\n",
    "    pdgIds = rhTree.jet_PdgIds\n",
    "    njets  = len(ys)\n",
    "\n",
    "    for i in range(njets):\n",
    "\n",
    "        data['y']       = ys[i]\n",
    "        data['jetM']    = jetMs[i]\n",
    "        data['jetPt']   = jetPts[i]\n",
    "        data['dR']    = dRs[i]\n",
    "        data['iphi']  = iphis[i]\n",
    "        data['ieta']  = ietas[i]\n",
    "        data['pdgId'] = pdgIds[i]\n",
    "        data['metSumEt'] = np.float32(rhTree.MET_sumET)[0]\n",
    "        data['nPVtx']    = rhTree.nVtx\n",
    "        data['nPVtx_x']  = np.array(rhTree.Vtx_x)[0]\n",
    "        data['nPVtx_y']  = np.array(rhTree.Vtx_y)[0]\n",
    "        data['X_jet'] = crop_jet(X_CMSII, data['iphi'], data['ieta']) # (13, 125, 125)\n",
    "        #data['X_jet'] = X_CMSII # (13, 125, 125)\n",
    "\n",
    "        # Create pyarrow.Table\n",
    "\n",
    "        pqdata = [pa.array([d]) if (np.isscalar(d) or type(d) == list) else pa.array([d.tolist()]) for d in data.values()]\n",
    "\n",
    "        table = pa.Table.from_arrays(pqdata, list(data.keys()))\n",
    "\n",
    "        if nJets == 0:\n",
    "            writer = pq.ParquetWriter(outStr, table.schema, compression='snappy')\n",
    "\n",
    "        writer.write_table(table)\n",
    "\n",
    "        nJets += 1\n",
    "\n",
    "        #print(\"Event:\", iEvt, \"  jetM:\", jetMs[i], \" pt:\" , jetPts[i], \" iPhi:\", iphis[i], \" iEta:\", ietas[i])\n",
    "\n",
    "writer.close()\n",
    "print (\" >> nJets:\",nJets)\n",
    "print (\" >> Real time:\",sw.RealTime()/60.,\"minutes\")\n",
    "print (\" >> CPU time: \",sw.CpuTime() /60.,\"minutes\")\n",
    "print (\"========================================================\")"
   ]
  },
  {
   "cell_type": "markdown",
   "metadata": {},
   "source": [
    "## Verify the output file"
   ]
  },
  {
   "cell_type": "code",
   "execution_count": null,
   "metadata": {},
   "outputs": [],
   "source": [
    "pqIn = pq.ParquetFile(outStr)\n",
    "print(pqIn.metadata)\n",
    "print(pqIn.schema)\n",
    "X = pqIn.read_row_group(10, columns=['y','jetM','jetPt','dR','iphi','ieta','pdgId']).to_pydict()\n",
    "print(X)"
   ]
  },
  {
   "cell_type": "markdown",
   "metadata": {},
   "source": [
    "### Verify the shape of the X_Jet"
   ]
  },
  {
   "cell_type": "code",
   "execution_count": null,
   "metadata": {},
   "outputs": [],
   "source": [
    "print(\"jetM:\", data['jetM'], \" pt:\" , data['jetPt'], \" iEta:\", data['ieta'], \" iphi:\", data['iphi'])"
   ]
  },
  {
   "cell_type": "code",
   "execution_count": null,
   "metadata": {},
   "outputs": [],
   "source": [
    "data['iphi']"
   ]
  },
  {
   "cell_type": "code",
   "execution_count": null,
   "metadata": {},
   "outputs": [],
   "source": [
    "data['X_jet'].shape"
   ]
  },
  {
   "cell_type": "raw",
   "metadata": {},
   "source": [
    "there are 7 channels with ieta = 280 and iphi = 360\n",
    "\n",
    "ieta and iphi are reduced to 125x125 matrix if the jet cropping is performed. "
   ]
  },
  {
   "cell_type": "code",
   "execution_count": null,
   "metadata": {},
   "outputs": [],
   "source": [
    "for i in range(data['X_jet'].shape[0]):\n",
    "    print(i , \"   \", data['X_jet'][i].min(), \"   \", data['X_jet'][i].max()) "
   ]
  },
  {
   "cell_type": "code",
   "execution_count": null,
   "metadata": {},
   "outputs": [],
   "source": [
    "import matplotlib.pyplot as plt\n",
    "import seaborn as sns\n",
    "\n",
    "plt.subplots(figsize=(20,15))\n",
    "ax = sns.heatmap(data['X_jet'][0], cmap=\"CMRmap\")#, vmin=0, vmax=2)#, mask=mask_shower[0])#,linecolor=\"blue\",linewidths=0.05)\n",
    "print(\"Track pt\")"
   ]
  },
  {
   "cell_type": "code",
   "execution_count": null,
   "metadata": {},
   "outputs": [],
   "source": [
    "import matplotlib.pyplot as plt\n",
    "import seaborn as sns\n",
    "\n",
    "plt.subplots(figsize=(20,15))\n",
    "ax = sns.heatmap(data['X_jet'][3], cmap=\"CMRmap\")#, vmin=0, vmax=2)#, mask=mask_shower[0])#,linecolor=\"blue\",linewidths=0.05)\n",
    "print(\"ECAL\")"
   ]
  },
  {
   "cell_type": "code",
   "execution_count": null,
   "metadata": {},
   "outputs": [],
   "source": [
    "import matplotlib.pyplot as plt\n",
    "import seaborn as sns\n",
    "\n",
    "plt.subplots(figsize=(20,15))\n",
    "ax = sns.heatmap(data['X_jet'][4], cmap=\"CMRmap\")#, vmin=0, vmax=2)#, mask=mask_shower[0])#,linecolor=\"blue\",linewidths=0.05)\n",
    "print(\"HCAL\")"
   ]
  },
  {
   "cell_type": "code",
   "execution_count": null,
   "metadata": {},
   "outputs": [],
   "source": []
  }
 ],
 "metadata": {
  "kernelspec": {
   "display_name": "Python 3",
   "language": "python",
   "name": "python3"
  },
  "language_info": {
   "codemirror_mode": {
    "name": "ipython",
    "version": 3
   },
   "file_extension": ".py",
   "mimetype": "text/x-python",
   "name": "python",
   "nbconvert_exporter": "python",
   "pygments_lexer": "ipython3",
   "version": "3.9.12"
  }
 },
 "nbformat": 4,
 "nbformat_minor": 4
}
